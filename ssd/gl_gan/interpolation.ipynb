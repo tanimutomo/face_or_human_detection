{
 "cells": [
  {
   "cell_type": "code",
   "execution_count": 1,
   "metadata": {},
   "outputs": [],
   "source": [
    "import numpy as np"
   ]
  },
  {
   "cell_type": "code",
   "execution_count": 104,
   "metadata": {},
   "outputs": [],
   "source": [
    "input = np.zeros((20, 15))\n",
    "mask = np.ones((6, 8))*3\n",
    "mask2 = np.ones((5, 4))*3\n",
    "input[11:17, 6:14] = mask\n",
    "input[7:12, 4:8] = mask2"
   ]
  },
  {
   "cell_type": "code",
   "execution_count": 105,
   "metadata": {},
   "outputs": [
    {
     "data": {
      "text/plain": [
       "array([[0., 0., 0., 0., 0., 0., 0., 0., 0., 0., 0., 0., 0., 0., 0.],\n",
       "       [0., 0., 0., 0., 0., 0., 0., 0., 0., 0., 0., 0., 0., 0., 0.],\n",
       "       [0., 0., 0., 0., 0., 0., 0., 0., 0., 0., 0., 0., 0., 0., 0.],\n",
       "       [0., 0., 0., 0., 0., 0., 0., 0., 0., 0., 0., 0., 0., 0., 0.],\n",
       "       [0., 0., 0., 0., 0., 0., 0., 0., 0., 0., 0., 0., 0., 0., 0.],\n",
       "       [0., 0., 0., 0., 0., 0., 0., 0., 0., 0., 0., 0., 0., 0., 0.],\n",
       "       [0., 0., 0., 0., 0., 0., 0., 0., 0., 0., 0., 0., 0., 0., 0.],\n",
       "       [0., 0., 0., 0., 3., 3., 3., 3., 0., 0., 0., 0., 0., 0., 0.],\n",
       "       [0., 0., 0., 0., 3., 3., 3., 3., 0., 0., 0., 0., 0., 0., 0.],\n",
       "       [0., 0., 0., 0., 3., 3., 3., 3., 0., 0., 0., 0., 0., 0., 0.],\n",
       "       [0., 0., 0., 0., 3., 3., 3., 3., 0., 0., 0., 0., 0., 0., 0.],\n",
       "       [0., 0., 0., 0., 3., 3., 3., 3., 3., 3., 3., 3., 3., 3., 0.],\n",
       "       [0., 0., 0., 0., 0., 0., 3., 3., 3., 3., 3., 3., 3., 3., 0.],\n",
       "       [0., 0., 0., 0., 0., 0., 3., 3., 3., 3., 3., 3., 3., 3., 0.],\n",
       "       [0., 0., 0., 0., 0., 0., 3., 3., 3., 3., 3., 3., 3., 3., 0.],\n",
       "       [0., 0., 0., 0., 0., 0., 3., 3., 3., 3., 3., 3., 3., 3., 0.],\n",
       "       [0., 0., 0., 0., 0., 0., 3., 3., 3., 3., 3., 3., 3., 3., 0.],\n",
       "       [0., 0., 0., 0., 0., 0., 0., 0., 0., 0., 0., 0., 0., 0., 0.],\n",
       "       [0., 0., 0., 0., 0., 0., 0., 0., 0., 0., 0., 0., 0., 0., 0.],\n",
       "       [0., 0., 0., 0., 0., 0., 0., 0., 0., 0., 0., 0., 0., 0., 0.]])"
      ]
     },
     "execution_count": 105,
     "metadata": {},
     "output_type": "execute_result"
    }
   ],
   "source": [
    "input"
   ]
  },
  {
   "cell_type": "code",
   "execution_count": 129,
   "metadata": {},
   "outputs": [
    {
     "data": {
      "text/plain": [
       "array([[3., 3., 3., 3., 3., 3., 3., 3.],\n",
       "       [3., 3., 3., 3., 3., 3., 3., 3.],\n",
       "       [3., 3., 3., 3., 3., 3., 3., 3.],\n",
       "       [3., 3., 3., 3., 3., 3., 3., 3.],\n",
       "       [3., 3., 3., 3., 3., 3., 3., 3.]])"
      ]
     },
     "execution_count": 129,
     "metadata": {},
     "output_type": "execute_result"
    }
   ],
   "source": [
    "input[12:12+5, 6:6+8]"
   ]
  },
  {
   "cell_type": "code",
   "execution_count": 106,
   "metadata": {},
   "outputs": [],
   "source": [
    "idx, col = np.where(input!=0)"
   ]
  },
  {
   "cell_type": "code",
   "execution_count": 107,
   "metadata": {},
   "outputs": [
    {
     "data": {
      "text/plain": [
       "array([ 7,  7,  7,  7,  8,  8,  8,  8,  9,  9,  9,  9, 10, 10, 10, 10, 11,\n",
       "       11, 11, 11, 11, 11, 11, 11, 11, 11, 12, 12, 12, 12, 12, 12, 12, 12,\n",
       "       13, 13, 13, 13, 13, 13, 13, 13, 14, 14, 14, 14, 14, 14, 14, 14, 15,\n",
       "       15, 15, 15, 15, 15, 15, 15, 16, 16, 16, 16, 16, 16, 16, 16])"
      ]
     },
     "execution_count": 107,
     "metadata": {},
     "output_type": "execute_result"
    }
   ],
   "source": [
    "idx"
   ]
  },
  {
   "cell_type": "code",
   "execution_count": 108,
   "metadata": {},
   "outputs": [
    {
     "data": {
      "text/plain": [
       "array([ 4,  5,  6,  7,  4,  5,  6,  7,  4,  5,  6,  7,  4,  5,  6,  7,  4,\n",
       "        5,  6,  7,  8,  9, 10, 11, 12, 13,  6,  7,  8,  9, 10, 11, 12, 13,\n",
       "        6,  7,  8,  9, 10, 11, 12, 13,  6,  7,  8,  9, 10, 11, 12, 13,  6,\n",
       "        7,  8,  9, 10, 11, 12, 13,  6,  7,  8,  9, 10, 11, 12, 13])"
      ]
     },
     "execution_count": 108,
     "metadata": {},
     "output_type": "execute_result"
    }
   ],
   "source": [
    "col"
   ]
  },
  {
   "cell_type": "code",
   "execution_count": 128,
   "metadata": {},
   "outputs": [
    {
     "name": "stdout",
     "output_type": "stream",
     "text": [
      "[array([12,  6,  5,  8]), array([7, 4, 4, 4])]\n"
     ]
    }
   ],
   "source": [
    "thresh = 2\n",
    "count = 1\n",
    "seq_h, seq_w = [], []\n",
    "rec = []\n",
    "idx_set = list(set(idx))\n",
    "for i in idx_set:\n",
    "    if np.sum(idx == i) >= thresh:\n",
    "        seq_h.append([i, np.sum(idx == i)])\n",
    "        \n",
    "if seq_h != []:\n",
    "    seq_h = np.array(seq_h)\n",
    "    seq_h_set = np.array(list(set(seq_h[:, 1])))\n",
    "    \n",
    "    seq_h_div = []\n",
    "    for i in seq_h_set:\n",
    "        seq_h_div.append(seq_h[seq_h[:, 1] == i])\n",
    "\n",
    "    seq_h_div = np.array(seq_h_div)\n",
    "    for i in seq_h_div:\n",
    "        s_h, e_h = i[0, 0], i[-1, 0]\n",
    "        tmp_rec = np.arange(s_h, e_h+1)\n",
    "        if len(tmp_rec) >= thresh:\n",
    "            if np.all(i[:, 0] == tmp_rec):\n",
    "                tmp_idx, tmp_col = np.where([idx==s_h])\n",
    "                s_v = col[tmp_col.min()]\n",
    "                rec.append(np.array([s_h, s_v, len(tmp_rec), i[0, 1]]))\n",
    "\n",
    "print(rec)"
   ]
  },
  {
   "cell_type": "code",
   "execution_count": null,
   "metadata": {},
   "outputs": [],
   "source": []
  },
  {
   "cell_type": "code",
   "execution_count": null,
   "metadata": {},
   "outputs": [],
   "source": []
  }
 ],
 "metadata": {
  "kernelspec": {
   "display_name": "Python 3",
   "language": "python",
   "name": "python3"
  },
  "language_info": {
   "codemirror_mode": {
    "name": "ipython",
    "version": 3
   },
   "file_extension": ".py",
   "mimetype": "text/x-python",
   "name": "python",
   "nbconvert_exporter": "python",
   "pygments_lexer": "ipython3",
   "version": "3.6.5"
  }
 },
 "nbformat": 4,
 "nbformat_minor": 2
}
